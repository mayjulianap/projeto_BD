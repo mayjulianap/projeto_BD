{
  "nbformat": 4,
  "nbformat_minor": 0,
  "metadata": {
    "colab": {
      "provenance": [],
      "include_colab_link": true
    },
    "kernelspec": {
      "name": "python3",
      "display_name": "Python 3"
    },
    "language_info": {
      "name": "python"
    }
  },
  "cells": [
    {
      "cell_type": "markdown",
      "metadata": {
        "id": "view-in-github",
        "colab_type": "text"
      },
      "source": [
        "<a href=\"https://colab.research.google.com/github/mayjulianap/projeto_BD/blob/main/Projeto_Banco_de_Dados_I_Mayra_Juliana_Pereira_Alves.ipynb\" target=\"_parent\"><img src=\"https://colab.research.google.com/assets/colab-badge.svg\" alt=\"Open In Colab\"/></a>"
      ]
    },
    {
      "cell_type": "markdown",
      "source": [
        "## Projeto Banco de Dados I - Análise Exploratória de Dados\n",
        "\n",
        "O principal objetivo de uma análise exploratória de dados é o de encontrar informações relevantes. Ou seja, dizer se os dados podem retornar valor ou não para determinado segmento.\n",
        "<br>\n",
        "<br>\n",
        "É comum, antes de qualquer análise de dados, estabelecermos perguntas a serem respondidas através dos dados. Como por exemplo: Se temos dados que são referentes a transações de compra, é interessante se perguntar:\n",
        "\n",
        "- Qual seria o ticket médio destas transações?\n",
        "- Qual região tem maior número de transações?\n",
        "- Qual tipo de cartão tem mais transações rejeitadas?\n",
        "\n",
        "E assim por diante...\n",
        "<br>\n",
        "<br>\n",
        "Entretanto, não existe uma \"receita de bolo\" a seguir em uma análise de dados. Isso depende muito da experiência de cada envolvido nesse processo.\n",
        "<br>\n",
        "<br>\n",
        "Neste contexto, o seu desafio será o de, a partir da base de dados disponibilizada [aqui](https://github.com/joelsonSantos/banco_de_dados-aula7/tree/main/aula%207), descrever um processo de análise de dados com:\n",
        "\n",
        "1) 15 perguntas serem respondidas a partir dos dados;\n",
        "\n",
        "2) Desenvolva scripts de \"ingestão\" dos dados dos arquivos `produtos.csv` e `vendas.csv`), em tabelas do PostgreSQL com os respectivos nomes: produtos, vendas.\n",
        "  - **Observação 1**: Crie um banco de dados chamado ecommerce e crie as duas referidas tabelas com seus respectivos dados.\n",
        "  - **Observação 2**: Os scripts podem ser implementados em python ou puramente em SQL para realizar a ingestão dos dados nas tabelas.\n",
        "\n",
        "3) Escreva consultas em SQL para responder as perguntas levantadas no item 1.\n",
        "\n",
        "4) Para cada consulta criada, crie uma **view** no banco de dados para nomeá-la.\n",
        "\n",
        "5) Utilize as views construídas no item 4, e escreva um Jupyter Notebook para mostrar os insights coletados a partir dos dados.\n",
        "  - **Observação:** É permitido o uso de gráficos e técnicas estatísticas para apresentar os insights.\n",
        "\n",
        "\n",
        "\n",
        "\n",
        "\n",
        "\n",
        "\n",
        "\n"
      ],
      "metadata": {
        "id": "0Idi-5zhLoav"
      }
    },
    {
      "cell_type": "markdown",
      "source": [
        "### 20:54"
      ],
      "metadata": {
        "id": "mVkkRqas7nri"
      }
    },
    {
      "cell_type": "code",
      "source": [
        "from google.colab import drive\n",
        "\n",
        "drive.mount('/content/drive')"
      ],
      "metadata": {
        "colab": {
          "base_uri": "https://localhost:8080/"
        },
        "id": "uLL_lubG2nAY",
        "outputId": "b35887ab-518e-442f-b62e-d62fce34b214"
      },
      "execution_count": null,
      "outputs": [
        {
          "output_type": "stream",
          "name": "stdout",
          "text": [
            "Drive already mounted at /content/drive; to attempt to forcibly remount, call drive.mount(\"/content/drive\", force_remount=True).\n"
          ]
        }
      ]
    },
    {
      "cell_type": "code",
      "source": [
        "folder_path = '/content/drive/MyDrive/teste/'\n",
        "import os\n",
        "# List files in the \"teste\" folder\n",
        "files = os.listdir(folder_path)\n",
        "print(files)"
      ],
      "metadata": {
        "colab": {
          "base_uri": "https://localhost:8080/"
        },
        "id": "9XqC957Y6nnA",
        "outputId": "855c5f22-0058-49b5-ec32-1d4e33a9fb61"
      },
      "execution_count": null,
      "outputs": [
        {
          "output_type": "stream",
          "name": "stdout",
          "text": [
            "['vendas.csv', 'produtos.csv']\n"
          ]
        }
      ]
    },
    {
      "cell_type": "code",
      "source": [
        "# Install postgresql server\n",
        "!sudo apt-get -y -qq update\n",
        "!sudo apt-get -y -qq install postgresql\n",
        "!sudo service postgresql start\n",
        "# Setup a password `postgres` for username `postgres`\n",
        "!sudo -u postgres psql -U postgres -c \"ALTER USER postgres PASSWORD 'postgres';\"\n",
        "# Setup a database with name `sampledb` to be used\n",
        "!sudo -u postgres psql -U postgres -c 'DROP DATABASE IF EXISTS ecommerce;'\n",
        "!sudo -u postgres psql -U postgres -c 'create database ecommerce;'\n",
        "!sudo -u postgres psql -U postgres -c '\\set AUTOCOMMIT on'"
      ],
      "metadata": {
        "id": "S0gPoQ2R7qbd",
        "outputId": "5fa4ef5f-8838-4103-b08a-d14fab6dd7ef",
        "colab": {
          "base_uri": "https://localhost:8080/"
        }
      },
      "execution_count": null,
      "outputs": [
        {
          "output_type": "stream",
          "name": "stdout",
          "text": [
            "debconf: unable to initialize frontend: Dialog\n",
            "debconf: (No usable dialog-like program is installed, so the dialog based frontend cannot be used. at /usr/share/perl5/Debconf/FrontEnd/Dialog.pm line 78, <> line 13.)\n",
            "debconf: falling back to frontend: Readline\n",
            "debconf: unable to initialize frontend: Readline\n",
            "debconf: (This frontend requires a controlling tty.)\n",
            "debconf: falling back to frontend: Teletype\n",
            "dpkg-preconfigure: unable to re-open stdin: \n",
            "Selecting previously unselected package logrotate.\n",
            "(Reading database ... 121749 files and directories currently installed.)\n",
            "Preparing to unpack .../00-logrotate_3.19.0-1ubuntu1.1_amd64.deb ...\n",
            "Unpacking logrotate (3.19.0-1ubuntu1.1) ...\n",
            "Selecting previously unselected package netbase.\n",
            "Preparing to unpack .../01-netbase_6.3_all.deb ...\n",
            "Unpacking netbase (6.3) ...\n",
            "Selecting previously unselected package libcommon-sense-perl:amd64.\n",
            "Preparing to unpack .../02-libcommon-sense-perl_3.75-2build1_amd64.deb ...\n",
            "Unpacking libcommon-sense-perl:amd64 (3.75-2build1) ...\n",
            "Selecting previously unselected package libjson-perl.\n",
            "Preparing to unpack .../03-libjson-perl_4.04000-1_all.deb ...\n",
            "Unpacking libjson-perl (4.04000-1) ...\n",
            "Selecting previously unselected package libtypes-serialiser-perl.\n",
            "Preparing to unpack .../04-libtypes-serialiser-perl_1.01-1_all.deb ...\n",
            "Unpacking libtypes-serialiser-perl (1.01-1) ...\n",
            "Selecting previously unselected package libjson-xs-perl.\n",
            "Preparing to unpack .../05-libjson-xs-perl_4.030-1build3_amd64.deb ...\n",
            "Unpacking libjson-xs-perl (4.030-1build3) ...\n",
            "Selecting previously unselected package postgresql-client-common.\n",
            "Preparing to unpack .../06-postgresql-client-common_238_all.deb ...\n",
            "Unpacking postgresql-client-common (238) ...\n",
            "Selecting previously unselected package postgresql-client-14.\n",
            "Preparing to unpack .../07-postgresql-client-14_14.10-0ubuntu0.22.04.1_amd64.deb ...\n",
            "Unpacking postgresql-client-14 (14.10-0ubuntu0.22.04.1) ...\n",
            "Selecting previously unselected package ssl-cert.\n",
            "Preparing to unpack .../08-ssl-cert_1.1.2_all.deb ...\n",
            "Unpacking ssl-cert (1.1.2) ...\n",
            "Selecting previously unselected package postgresql-common.\n",
            "Preparing to unpack .../09-postgresql-common_238_all.deb ...\n",
            "Adding 'diversion of /usr/bin/pg_config to /usr/bin/pg_config.libpq-dev by postgresql-common'\n",
            "Unpacking postgresql-common (238) ...\n",
            "Selecting previously unselected package postgresql-14.\n",
            "Preparing to unpack .../10-postgresql-14_14.10-0ubuntu0.22.04.1_amd64.deb ...\n",
            "Unpacking postgresql-14 (14.10-0ubuntu0.22.04.1) ...\n",
            "Selecting previously unselected package postgresql.\n",
            "Preparing to unpack .../11-postgresql_14+238_all.deb ...\n",
            "Unpacking postgresql (14+238) ...\n",
            "Selecting previously unselected package sysstat.\n",
            "Preparing to unpack .../12-sysstat_12.5.2-2ubuntu0.2_amd64.deb ...\n",
            "Unpacking sysstat (12.5.2-2ubuntu0.2) ...\n",
            "Setting up logrotate (3.19.0-1ubuntu1.1) ...\n",
            "Created symlink /etc/systemd/system/timers.target.wants/logrotate.timer → /lib/systemd/system/logrotate.timer.\n",
            "Setting up libcommon-sense-perl:amd64 (3.75-2build1) ...\n",
            "Setting up ssl-cert (1.1.2) ...\n",
            "debconf: unable to initialize frontend: Dialog\n",
            "debconf: (No usable dialog-like program is installed, so the dialog based frontend cannot be used. at /usr/share/perl5/Debconf/FrontEnd/Dialog.pm line 78.)\n",
            "debconf: falling back to frontend: Readline\n",
            "Setting up libtypes-serialiser-perl (1.01-1) ...\n",
            "Setting up libjson-perl (4.04000-1) ...\n",
            "Setting up netbase (6.3) ...\n",
            "Setting up sysstat (12.5.2-2ubuntu0.2) ...\n",
            "debconf: unable to initialize frontend: Dialog\n",
            "debconf: (No usable dialog-like program is installed, so the dialog based frontend cannot be used. at /usr/share/perl5/Debconf/FrontEnd/Dialog.pm line 78.)\n",
            "debconf: falling back to frontend: Readline\n",
            "\n",
            "Creating config file /etc/default/sysstat with new version\n",
            "update-alternatives: using /usr/bin/sar.sysstat to provide /usr/bin/sar (sar) in auto mode\n",
            "Created symlink /etc/systemd/system/sysstat.service.wants/sysstat-collect.timer → /lib/systemd/system/sysstat-collect.timer.\n",
            "Created symlink /etc/systemd/system/sysstat.service.wants/sysstat-summary.timer → /lib/systemd/system/sysstat-summary.timer.\n",
            "Created symlink /etc/systemd/system/multi-user.target.wants/sysstat.service → /lib/systemd/system/sysstat.service.\n",
            "Setting up postgresql-client-common (238) ...\n",
            "Setting up libjson-xs-perl (4.030-1build3) ...\n",
            "Setting up postgresql-client-14 (14.10-0ubuntu0.22.04.1) ...\n",
            "update-alternatives: using /usr/share/postgresql/14/man/man1/psql.1.gz to provide /usr/share/man/man1/psql.1.gz (psql.1.gz) in auto mode\n",
            "Setting up postgresql-common (238) ...\n",
            "debconf: unable to initialize frontend: Dialog\n",
            "debconf: (No usable dialog-like program is installed, so the dialog based frontend cannot be used. at /usr/share/perl5/Debconf/FrontEnd/Dialog.pm line 78.)\n",
            "debconf: falling back to frontend: Readline\n",
            "Adding user postgres to group ssl-cert\n",
            "\n",
            "Creating config file /etc/postgresql-common/createcluster.conf with new version\n",
            "Building PostgreSQL dictionaries from installed myspell/hunspell packages...\n",
            "Removing obsolete dictionary files:\n",
            "Created symlink /etc/systemd/system/multi-user.target.wants/postgresql.service → /lib/systemd/system/postgresql.service.\n",
            "Setting up postgresql-14 (14.10-0ubuntu0.22.04.1) ...\n",
            "debconf: unable to initialize frontend: Dialog\n",
            "debconf: (No usable dialog-like program is installed, so the dialog based frontend cannot be used. at /usr/share/perl5/Debconf/FrontEnd/Dialog.pm line 78.)\n",
            "debconf: falling back to frontend: Readline\n",
            "Creating new PostgreSQL cluster 14/main ...\n",
            "/usr/lib/postgresql/14/bin/initdb -D /var/lib/postgresql/14/main --auth-local peer --auth-host scram-sha-256 --no-instructions\n",
            "The files belonging to this database system will be owned by user \"postgres\".\n",
            "This user must also own the server process.\n",
            "\n",
            "The database cluster will be initialized with locale \"en_US.UTF-8\".\n",
            "The default database encoding has accordingly been set to \"UTF8\".\n",
            "The default text search configuration will be set to \"english\".\n",
            "\n",
            "Data page checksums are disabled.\n",
            "\n",
            "fixing permissions on existing directory /var/lib/postgresql/14/main ... ok\n",
            "creating subdirectories ... ok\n",
            "selecting dynamic shared memory implementation ... posix\n",
            "selecting default max_connections ... 100\n",
            "selecting default shared_buffers ... 128MB\n",
            "selecting default time zone ... Etc/UTC\n",
            "creating configuration files ... ok\n",
            "running bootstrap script ... ok\n",
            "performing post-bootstrap initialization ... ok\n",
            "syncing data to disk ... ok\n",
            "update-alternatives: using /usr/share/postgresql/14/man/man1/postmaster.1.gz to provide /usr/share/man/man1/postmaster.1.gz (postmaster.1.gz) in auto mode\n",
            "invoke-rc.d: could not determine current runlevel\n",
            "invoke-rc.d: policy-rc.d denied execution of start.\n",
            "Setting up postgresql (14+238) ...\n",
            "Processing triggers for man-db (2.10.2-1) ...\n",
            " * Starting PostgreSQL 14 database server\n",
            "   ...done.\n",
            "ALTER ROLE\n",
            "NOTICE:  database \"ecommerce\" does not exist, skipping\n",
            "DROP DATABASE\n",
            "CREATE DATABASE\n"
          ]
        }
      ]
    },
    {
      "cell_type": "code",
      "source": [
        "teste = pd.read_csv(folder_path+'vendas.csv')\n",
        "teste.head()"
      ],
      "metadata": {
        "colab": {
          "base_uri": "https://localhost:8080/",
          "height": 206
        },
        "id": "a00hcXn68mwl",
        "outputId": "e2bf4474-e7ac-4763-9e0e-aa533c63027f"
      },
      "execution_count": null,
      "outputs": [
        {
          "output_type": "execute_result",
          "data": {
            "text/plain": [
              "              Order ID       Date ship-service-level    Style    Codigo  \\\n",
              "0  171-8536041-9190708  6/29/2022          Expedited   SET400  BS001879   \n",
              "1  407-4176879-6571509  6/29/2022          Expedited  JNE3486  BS001890   \n",
              "2  404-4382011-4681149  6/29/2022          Expedited  JNE3887  BS001873   \n",
              "3  406-3412504-2471555  6/29/2022          Expedited  JNE3487  BS001888   \n",
              "4  408-2481787-8248368  6/29/2022          Expedited  JNE3566  BS001898   \n",
              "\n",
              "  Courier Status  Qty ship-country Fulfillment  \n",
              "0      Cancelled    4           AU         Yes  \n",
              "1      Cancelled    2           BR         Yes  \n",
              "2      Cancelled    2           BR         Yes  \n",
              "3      Cancelled    2           BR         Yes  \n",
              "4      Cancelled    2           BR         Yes  "
            ],
            "text/html": [
              "\n",
              "  <div id=\"df-6b4a1a13-f85f-461d-93f1-cb4c9e27053e\" class=\"colab-df-container\">\n",
              "    <div>\n",
              "<style scoped>\n",
              "    .dataframe tbody tr th:only-of-type {\n",
              "        vertical-align: middle;\n",
              "    }\n",
              "\n",
              "    .dataframe tbody tr th {\n",
              "        vertical-align: top;\n",
              "    }\n",
              "\n",
              "    .dataframe thead th {\n",
              "        text-align: right;\n",
              "    }\n",
              "</style>\n",
              "<table border=\"1\" class=\"dataframe\">\n",
              "  <thead>\n",
              "    <tr style=\"text-align: right;\">\n",
              "      <th></th>\n",
              "      <th>Order ID</th>\n",
              "      <th>Date</th>\n",
              "      <th>ship-service-level</th>\n",
              "      <th>Style</th>\n",
              "      <th>Codigo</th>\n",
              "      <th>Courier Status</th>\n",
              "      <th>Qty</th>\n",
              "      <th>ship-country</th>\n",
              "      <th>Fulfillment</th>\n",
              "    </tr>\n",
              "  </thead>\n",
              "  <tbody>\n",
              "    <tr>\n",
              "      <th>0</th>\n",
              "      <td>171-8536041-9190708</td>\n",
              "      <td>6/29/2022</td>\n",
              "      <td>Expedited</td>\n",
              "      <td>SET400</td>\n",
              "      <td>BS001879</td>\n",
              "      <td>Cancelled</td>\n",
              "      <td>4</td>\n",
              "      <td>AU</td>\n",
              "      <td>Yes</td>\n",
              "    </tr>\n",
              "    <tr>\n",
              "      <th>1</th>\n",
              "      <td>407-4176879-6571509</td>\n",
              "      <td>6/29/2022</td>\n",
              "      <td>Expedited</td>\n",
              "      <td>JNE3486</td>\n",
              "      <td>BS001890</td>\n",
              "      <td>Cancelled</td>\n",
              "      <td>2</td>\n",
              "      <td>BR</td>\n",
              "      <td>Yes</td>\n",
              "    </tr>\n",
              "    <tr>\n",
              "      <th>2</th>\n",
              "      <td>404-4382011-4681149</td>\n",
              "      <td>6/29/2022</td>\n",
              "      <td>Expedited</td>\n",
              "      <td>JNE3887</td>\n",
              "      <td>BS001873</td>\n",
              "      <td>Cancelled</td>\n",
              "      <td>2</td>\n",
              "      <td>BR</td>\n",
              "      <td>Yes</td>\n",
              "    </tr>\n",
              "    <tr>\n",
              "      <th>3</th>\n",
              "      <td>406-3412504-2471555</td>\n",
              "      <td>6/29/2022</td>\n",
              "      <td>Expedited</td>\n",
              "      <td>JNE3487</td>\n",
              "      <td>BS001888</td>\n",
              "      <td>Cancelled</td>\n",
              "      <td>2</td>\n",
              "      <td>BR</td>\n",
              "      <td>Yes</td>\n",
              "    </tr>\n",
              "    <tr>\n",
              "      <th>4</th>\n",
              "      <td>408-2481787-8248368</td>\n",
              "      <td>6/29/2022</td>\n",
              "      <td>Expedited</td>\n",
              "      <td>JNE3566</td>\n",
              "      <td>BS001898</td>\n",
              "      <td>Cancelled</td>\n",
              "      <td>2</td>\n",
              "      <td>BR</td>\n",
              "      <td>Yes</td>\n",
              "    </tr>\n",
              "  </tbody>\n",
              "</table>\n",
              "</div>\n",
              "    <div class=\"colab-df-buttons\">\n",
              "\n",
              "  <div class=\"colab-df-container\">\n",
              "    <button class=\"colab-df-convert\" onclick=\"convertToInteractive('df-6b4a1a13-f85f-461d-93f1-cb4c9e27053e')\"\n",
              "            title=\"Convert this dataframe to an interactive table.\"\n",
              "            style=\"display:none;\">\n",
              "\n",
              "  <svg xmlns=\"http://www.w3.org/2000/svg\" height=\"24px\" viewBox=\"0 -960 960 960\">\n",
              "    <path d=\"M120-120v-720h720v720H120Zm60-500h600v-160H180v160Zm220 220h160v-160H400v160Zm0 220h160v-160H400v160ZM180-400h160v-160H180v160Zm440 0h160v-160H620v160ZM180-180h160v-160H180v160Zm440 0h160v-160H620v160Z\"/>\n",
              "  </svg>\n",
              "    </button>\n",
              "\n",
              "  <style>\n",
              "    .colab-df-container {\n",
              "      display:flex;\n",
              "      gap: 12px;\n",
              "    }\n",
              "\n",
              "    .colab-df-convert {\n",
              "      background-color: #E8F0FE;\n",
              "      border: none;\n",
              "      border-radius: 50%;\n",
              "      cursor: pointer;\n",
              "      display: none;\n",
              "      fill: #1967D2;\n",
              "      height: 32px;\n",
              "      padding: 0 0 0 0;\n",
              "      width: 32px;\n",
              "    }\n",
              "\n",
              "    .colab-df-convert:hover {\n",
              "      background-color: #E2EBFA;\n",
              "      box-shadow: 0px 1px 2px rgba(60, 64, 67, 0.3), 0px 1px 3px 1px rgba(60, 64, 67, 0.15);\n",
              "      fill: #174EA6;\n",
              "    }\n",
              "\n",
              "    .colab-df-buttons div {\n",
              "      margin-bottom: 4px;\n",
              "    }\n",
              "\n",
              "    [theme=dark] .colab-df-convert {\n",
              "      background-color: #3B4455;\n",
              "      fill: #D2E3FC;\n",
              "    }\n",
              "\n",
              "    [theme=dark] .colab-df-convert:hover {\n",
              "      background-color: #434B5C;\n",
              "      box-shadow: 0px 1px 3px 1px rgba(0, 0, 0, 0.15);\n",
              "      filter: drop-shadow(0px 1px 2px rgba(0, 0, 0, 0.3));\n",
              "      fill: #FFFFFF;\n",
              "    }\n",
              "  </style>\n",
              "\n",
              "    <script>\n",
              "      const buttonEl =\n",
              "        document.querySelector('#df-6b4a1a13-f85f-461d-93f1-cb4c9e27053e button.colab-df-convert');\n",
              "      buttonEl.style.display =\n",
              "        google.colab.kernel.accessAllowed ? 'block' : 'none';\n",
              "\n",
              "      async function convertToInteractive(key) {\n",
              "        const element = document.querySelector('#df-6b4a1a13-f85f-461d-93f1-cb4c9e27053e');\n",
              "        const dataTable =\n",
              "          await google.colab.kernel.invokeFunction('convertToInteractive',\n",
              "                                                    [key], {});\n",
              "        if (!dataTable) return;\n",
              "\n",
              "        const docLinkHtml = 'Like what you see? Visit the ' +\n",
              "          '<a target=\"_blank\" href=https://colab.research.google.com/notebooks/data_table.ipynb>data table notebook</a>'\n",
              "          + ' to learn more about interactive tables.';\n",
              "        element.innerHTML = '';\n",
              "        dataTable['output_type'] = 'display_data';\n",
              "        await google.colab.output.renderOutput(dataTable, element);\n",
              "        const docLink = document.createElement('div');\n",
              "        docLink.innerHTML = docLinkHtml;\n",
              "        element.appendChild(docLink);\n",
              "      }\n",
              "    </script>\n",
              "  </div>\n",
              "\n",
              "\n",
              "<div id=\"df-27b65cf3-2a9e-43e7-800a-09410b7cd8ec\">\n",
              "  <button class=\"colab-df-quickchart\" onclick=\"quickchart('df-27b65cf3-2a9e-43e7-800a-09410b7cd8ec')\"\n",
              "            title=\"Suggest charts\"\n",
              "            style=\"display:none;\">\n",
              "\n",
              "<svg xmlns=\"http://www.w3.org/2000/svg\" height=\"24px\"viewBox=\"0 0 24 24\"\n",
              "     width=\"24px\">\n",
              "    <g>\n",
              "        <path d=\"M19 3H5c-1.1 0-2 .9-2 2v14c0 1.1.9 2 2 2h14c1.1 0 2-.9 2-2V5c0-1.1-.9-2-2-2zM9 17H7v-7h2v7zm4 0h-2V7h2v10zm4 0h-2v-4h2v4z\"/>\n",
              "    </g>\n",
              "</svg>\n",
              "  </button>\n",
              "\n",
              "<style>\n",
              "  .colab-df-quickchart {\n",
              "      --bg-color: #E8F0FE;\n",
              "      --fill-color: #1967D2;\n",
              "      --hover-bg-color: #E2EBFA;\n",
              "      --hover-fill-color: #174EA6;\n",
              "      --disabled-fill-color: #AAA;\n",
              "      --disabled-bg-color: #DDD;\n",
              "  }\n",
              "\n",
              "  [theme=dark] .colab-df-quickchart {\n",
              "      --bg-color: #3B4455;\n",
              "      --fill-color: #D2E3FC;\n",
              "      --hover-bg-color: #434B5C;\n",
              "      --hover-fill-color: #FFFFFF;\n",
              "      --disabled-bg-color: #3B4455;\n",
              "      --disabled-fill-color: #666;\n",
              "  }\n",
              "\n",
              "  .colab-df-quickchart {\n",
              "    background-color: var(--bg-color);\n",
              "    border: none;\n",
              "    border-radius: 50%;\n",
              "    cursor: pointer;\n",
              "    display: none;\n",
              "    fill: var(--fill-color);\n",
              "    height: 32px;\n",
              "    padding: 0;\n",
              "    width: 32px;\n",
              "  }\n",
              "\n",
              "  .colab-df-quickchart:hover {\n",
              "    background-color: var(--hover-bg-color);\n",
              "    box-shadow: 0 1px 2px rgba(60, 64, 67, 0.3), 0 1px 3px 1px rgba(60, 64, 67, 0.15);\n",
              "    fill: var(--button-hover-fill-color);\n",
              "  }\n",
              "\n",
              "  .colab-df-quickchart-complete:disabled,\n",
              "  .colab-df-quickchart-complete:disabled:hover {\n",
              "    background-color: var(--disabled-bg-color);\n",
              "    fill: var(--disabled-fill-color);\n",
              "    box-shadow: none;\n",
              "  }\n",
              "\n",
              "  .colab-df-spinner {\n",
              "    border: 2px solid var(--fill-color);\n",
              "    border-color: transparent;\n",
              "    border-bottom-color: var(--fill-color);\n",
              "    animation:\n",
              "      spin 1s steps(1) infinite;\n",
              "  }\n",
              "\n",
              "  @keyframes spin {\n",
              "    0% {\n",
              "      border-color: transparent;\n",
              "      border-bottom-color: var(--fill-color);\n",
              "      border-left-color: var(--fill-color);\n",
              "    }\n",
              "    20% {\n",
              "      border-color: transparent;\n",
              "      border-left-color: var(--fill-color);\n",
              "      border-top-color: var(--fill-color);\n",
              "    }\n",
              "    30% {\n",
              "      border-color: transparent;\n",
              "      border-left-color: var(--fill-color);\n",
              "      border-top-color: var(--fill-color);\n",
              "      border-right-color: var(--fill-color);\n",
              "    }\n",
              "    40% {\n",
              "      border-color: transparent;\n",
              "      border-right-color: var(--fill-color);\n",
              "      border-top-color: var(--fill-color);\n",
              "    }\n",
              "    60% {\n",
              "      border-color: transparent;\n",
              "      border-right-color: var(--fill-color);\n",
              "    }\n",
              "    80% {\n",
              "      border-color: transparent;\n",
              "      border-right-color: var(--fill-color);\n",
              "      border-bottom-color: var(--fill-color);\n",
              "    }\n",
              "    90% {\n",
              "      border-color: transparent;\n",
              "      border-bottom-color: var(--fill-color);\n",
              "    }\n",
              "  }\n",
              "</style>\n",
              "\n",
              "  <script>\n",
              "    async function quickchart(key) {\n",
              "      const quickchartButtonEl =\n",
              "        document.querySelector('#' + key + ' button');\n",
              "      quickchartButtonEl.disabled = true;  // To prevent multiple clicks.\n",
              "      quickchartButtonEl.classList.add('colab-df-spinner');\n",
              "      try {\n",
              "        const charts = await google.colab.kernel.invokeFunction(\n",
              "            'suggestCharts', [key], {});\n",
              "      } catch (error) {\n",
              "        console.error('Error during call to suggestCharts:', error);\n",
              "      }\n",
              "      quickchartButtonEl.classList.remove('colab-df-spinner');\n",
              "      quickchartButtonEl.classList.add('colab-df-quickchart-complete');\n",
              "    }\n",
              "    (() => {\n",
              "      let quickchartButtonEl =\n",
              "        document.querySelector('#df-27b65cf3-2a9e-43e7-800a-09410b7cd8ec button');\n",
              "      quickchartButtonEl.style.display =\n",
              "        google.colab.kernel.accessAllowed ? 'block' : 'none';\n",
              "    })();\n",
              "  </script>\n",
              "</div>\n",
              "\n",
              "    </div>\n",
              "  </div>\n"
            ],
            "application/vnd.google.colaboratory.intrinsic+json": {
              "type": "dataframe",
              "variable_name": "teste"
            }
          },
          "metadata": {},
          "execution_count": 49
        }
      ]
    },
    {
      "cell_type": "code",
      "source": [
        "set(teste.Fulfillment)"
      ],
      "metadata": {
        "colab": {
          "base_uri": "https://localhost:8080/"
        },
        "id": "7UCuITrzD29A",
        "outputId": "c8bdd9d4-30a8-4e10-e218-4be66937edf1"
      },
      "execution_count": null,
      "outputs": [
        {
          "output_type": "execute_result",
          "data": {
            "text/plain": [
              "{'No', 'Yes'}"
            ]
          },
          "metadata": {},
          "execution_count": 132
        }
      ]
    },
    {
      "cell_type": "code",
      "source": [
        "import psycopg2\n",
        "import pandas as pd\n",
        "from psycopg2 import extensions, connect\n",
        "\n",
        "auto_commit = extensions.ISOLATION_LEVEL_AUTOCOMMIT\n",
        "\n",
        "# Conectar ao PostgreSQL\n",
        "conn = psycopg2.connect(\n",
        "    user=\"postgres\",\n",
        "    password=\"postgres\",\n",
        "    host=\"localhost\",\n",
        "    database=\"ecommerce\"\n",
        ")\n",
        "conn.set_isolation_level(auto_commit)\n",
        "\n",
        "with conn.cursor() as cursor:\n",
        "    cursor.execute(\"\"\"\n",
        "        drop table if exists produtos;\n",
        "        drop table if exists vendas;\n",
        "    \"\"\")\n",
        "    conn.commit()\n",
        "\n",
        "# Criar a tabela produtos\n",
        "with conn.cursor() as cursor:\n",
        "    cursor.execute(\"\"\"\n",
        "        CREATE TABLE produtos (\n",
        "            codigo VARCHAR(255) PRIMARY KEY,\n",
        "            produto VARCHAR(255),\n",
        "            preco VARCHAR(255)\n",
        "        );\n",
        "    \"\"\")\n",
        "    conn.commit()\n",
        "\n",
        "# Ingestão de dados no arquivo produtos.csv para a tabela produtos\n",
        "with conn.cursor() as cursor:\n",
        "    with open(folder_path+'produtos.csv', 'r') as f:\n",
        "        cursor.copy_expert(\"COPY produtos FROM STDIN WITH CSV HEADER\", f)\n",
        "    conn.commit()\n",
        "\n",
        "with conn.cursor() as cursor:\n",
        "    cursor.execute(\"\"\"\n",
        "        UPDATE produtos\n",
        "        SET preco = REPLACE(preco, '$', '')\n",
        "        WHERE preco LIKE '%$%';\n",
        "    \"\"\")\n",
        "    conn.commit()\n",
        "\n",
        "# Criar a tabela vendas\n",
        "with conn.cursor() as cursor:\n",
        "    cursor.execute(\"\"\"\n",
        "        CREATE TABLE vendas (\n",
        "            order_id VARCHAR(255),\n",
        "            data DATE,\n",
        "            ship_level VARCHAR(255),\n",
        "            style VARCHAR(255),\n",
        "            codigo_produto VARCHAR(255),\n",
        "            status VARCHAR(255),\n",
        "            quantidade INT,\n",
        "            pais VARCHAR(255),\n",
        "            fulfillment VARCHAR(255)\n",
        "        );\n",
        "    \"\"\")\n",
        "    conn.commit()\n",
        "\n",
        "# Ingestão de dados no arquivo vendas.csv para a tabela vendas\n",
        "with conn.cursor() as cursor:\n",
        "    with open(folder_path+'vendas.csv', 'r') as f:\n",
        "        cursor.copy_expert(\"COPY vendas FROM STDIN WITH CSV HEADER\", f)\n",
        "    conn.commit()"
      ],
      "metadata": {
        "id": "cqByuF_PvGwj"
      },
      "execution_count": null,
      "outputs": []
    },
    {
      "cell_type": "markdown",
      "source": [
        "### 1. Qual o produto mais vendido em termos de quantidade?\n",
        "\n"
      ],
      "metadata": {
        "id": "FdE71lqZBiuC"
      }
    },
    {
      "cell_type": "code",
      "source": [
        "query = \"\"\"\n",
        "-- 1. Qual é o produto mais vendido em termos de quantidade?\n",
        "CREATE VIEW view_item1 AS\n",
        "SELECT produto, SUM(quantidade) as total_quantidade\n",
        "FROM vendas\n",
        "JOIN produtos ON vendas.codigo_produto = produtos.codigo\n",
        "GROUP BY produto\n",
        "ORDER BY total_quantidade DESC\n",
        "LIMIT 1;\n",
        "\n",
        "-- Select da view_item1\n",
        "SELECT * FROM view_item1;\n",
        "\"\"\"\n",
        "\n",
        "with conn.cursor() as cursor:\n",
        "    cursor.execute(query)\n",
        "    conn.commit()\n",
        "    result = cursor.fetchall()\n",
        "result"
      ],
      "metadata": {
        "colab": {
          "base_uri": "https://localhost:8080/"
        },
        "id": "5Ot2ufNWBljT",
        "outputId": "6ed71988-b1ed-484e-f020-94c935f053c2"
      },
      "execution_count": null,
      "outputs": [
        {
          "output_type": "execute_result",
          "data": {
            "text/plain": [
              "[('Logitech MK270R Wireless Keyboard and Mouse Combo', 15264)]"
            ]
          },
          "metadata": {},
          "execution_count": 90
        }
      ]
    },
    {
      "cell_type": "code",
      "source": [
        "query = \"\"\"\n",
        "-- 2. Qual é o total de vendas por país?\n",
        "CREATE VIEW view_item2 AS\n",
        "SELECT pais, SUM(quantidade) as total_vendas\n",
        "FROM vendas\n",
        "GROUP BY pais;\n",
        "\n",
        "-- Select da view_item2\n",
        "SELECT * FROM view_item2;\n",
        "\"\"\"\n",
        "\n",
        "with conn.cursor() as cursor:\n",
        "    cursor.execute(query)\n",
        "    conn.commit()\n",
        "    result = cursor.fetchall()\n",
        "result"
      ],
      "metadata": {
        "colab": {
          "base_uri": "https://localhost:8080/"
        },
        "id": "Wf1KGERiDsOv",
        "outputId": "952a4f40-e275-4982-92c9-7287f9e4985e"
      },
      "execution_count": null,
      "outputs": [
        {
          "output_type": "execute_result",
          "data": {
            "text/plain": [
              "[('DK', 42994),\n",
              " ('JP', 43091),\n",
              " ('AU', 43028),\n",
              " ('GE', 42754),\n",
              " ('BR', 43092),\n",
              " ('UK', 43070),\n",
              " ('US', 42937),\n",
              " ('FR', 42937),\n",
              " ('PT', 42965)]"
            ]
          },
          "metadata": {},
          "execution_count": 91
        }
      ]
    },
    {
      "cell_type": "code",
      "source": [
        "query = \"\"\"\n",
        "-- 3. Quanto foi o faturamento total por produto?\n",
        "CREATE VIEW view_item3 AS\n",
        "SELECT produto, SUM(quantidade * CAST(preco AS DECIMAL)) as faturamento_total\n",
        "FROM vendas\n",
        "JOIN produtos ON vendas.codigo_produto = produtos.codigo\n",
        "GROUP BY produto;\n",
        "\n",
        "-- Select da view_item3\n",
        "SELECT * FROM view_item3;\n",
        "\"\"\"\n",
        "\n",
        "with conn.cursor() as cursor:\n",
        "    cursor.execute(query)\n",
        "    conn.commit()\n",
        "    result = cursor.fetchall()\n",
        "result"
      ],
      "metadata": {
        "colab": {
          "base_uri": "https://localhost:8080/"
        },
        "id": "WRUIB_gWD_pv",
        "outputId": "f6639eca-c068-4145-d1a0-ea041e6aa02c"
      },
      "execution_count": null,
      "outputs": [
        {
          "output_type": "execute_result",
          "data": {
            "text/plain": [
              "[('New Apple AirTag 4 Pack', Decimal('1837468.00')),\n",
              " ('Sony WH1000XM4 Noise Canceling Wireless Headphones ',\n",
              "  Decimal('5841990.00')),\n",
              " ('SanDisk Extreme microSDXC', Decimal('390411.00')),\n",
              " ('Logitech MK270R Wireless Keyboard and Mouse Combo', Decimal('580032.00')),\n",
              " ('HyperX QuadCast S – RGB USB Condenser Microphone for PC',\n",
              "  Decimal('3220773.00')),\n",
              " ('Charmast Mini Power Bank', Decimal('525249.74')),\n",
              " ('LG 29WL50S - 29 inch UltraWide UHD', Decimal('4211505.00')),\n",
              " ('Nintendo Switch Console Lite', Decimal('5033717.20')),\n",
              " ('TP-Link Tapo Pan/Tilt Smart Security Camera', Decimal('1007610.24')),\n",
              " ('Samsung T37F Monitor UHD 37', Decimal('3258203.00')),\n",
              " ('Fingertip Pulse Oximeter, Blood Oxygen Saturation', Decimal('274347.24')),\n",
              " ('HEYMIX Powerboard, Power Strip with 8 Outlets, Surge Protector with 4 USB',\n",
              "  Decimal('644577.20')),\n",
              " ('Withings BPM Connect Wireless Blood Pressure Monitor',\n",
              "  Decimal('2205996.00')),\n",
              " ('TicWatch Pro 3 Ultra GPS Smartwatch Qualcomm', Decimal('4938822.00')),\n",
              " ('Apple AirPods Pro', Decimal('3822330.00')),\n",
              " (' Taco Cat Goat Cheese Pizza Card Game', Decimal('228552.53')),\n",
              " ('Apple Lightning to 3.5mm Headphone Jack Adapter', Decimal('174286.00')),\n",
              " ('Apple Lightning Cable', Decimal('275798.58')),\n",
              " ('Google Chromecast 3rd Generation', Decimal('676665.00')),\n",
              " ('Kindle Paperwhite (8GB)', Decimal('3600296.00')),\n",
              " ('LEGO Ideas Home Alone McCallisters’ House 21330', Decimal('5578825.00')),\n",
              " ('Seagate 2TB Expansion Portable HDD', Decimal('981575.00')),\n",
              " ('YABER WiFi Projector Mini Portable Projector 6000 Lumen 1080P',\n",
              "  Decimal('3300084.00')),\n",
              " ('LEGO Ideas 21319 Central Perk Building Kit', Decimal('847941.00')),\n",
              " ('PHILIPS Sonicare 9900 Prestige Power Toothbrush', Decimal('4983363.00')),\n",
              " ('Apple AirPods (3rd Generation)', Decimal('3148250.00')),\n",
              " ('Webcam HD 1080p Web Camera', Decimal('725995.00')),\n",
              " ('Apple MagSafe Charger', Decimal('709764.00')),\n",
              " ('Digital Blood Pressure Monitor with Large Colour Screen',\n",
              "  Decimal('623226.15'))]"
            ]
          },
          "metadata": {},
          "execution_count": 92
        }
      ]
    },
    {
      "cell_type": "code",
      "source": [
        "query = \"\"\"\n",
        "-- 4. Qual é o estilo de produto mais popular em março de 2022?\n",
        "drop view if exists view_item4;\n",
        "CREATE VIEW view_item4 AS\n",
        "SELECT style, SUM(quantidade) as total_quantidade\n",
        "FROM vendas\n",
        "WHERE data > '2022-03-01' AND data <= '2022-03-31'\n",
        "GROUP BY style\n",
        "ORDER BY total_quantidade DESC\n",
        "LIMIT 1;\n",
        "\n",
        "-- Select da view_item4\n",
        "SELECT * FROM view_item4;\n",
        "\"\"\"\n",
        "\n",
        "with conn.cursor() as cursor:\n",
        "    cursor.execute(query)\n",
        "    conn.commit()\n",
        "    result = cursor.fetchall()\n",
        "result"
      ],
      "metadata": {
        "colab": {
          "base_uri": "https://localhost:8080/"
        },
        "id": "z3d0O7XXFWvk",
        "outputId": "8bf3d0c3-898f-48b7-e545-6b90142a10cc"
      },
      "execution_count": null,
      "outputs": [
        {
          "output_type": "execute_result",
          "data": {
            "text/plain": [
              "[('JNE3160', 17)]"
            ]
          },
          "metadata": {},
          "execution_count": 153
        }
      ]
    },
    {
      "cell_type": "code",
      "source": [
        "query = \"\"\"\n",
        "-- 5. Qual é o nível de envio (ship_level) mais comum?\n",
        "CREATE VIEW view_item5 AS\n",
        "SELECT ship_level, COUNT(*) as total_transacoes\n",
        "FROM vendas\n",
        "GROUP BY ship_level\n",
        "ORDER BY total_transacoes DESC\n",
        "LIMIT 1;\n",
        "\n",
        "-- Select da view_item5\n",
        "SELECT * FROM view_item5;\n",
        "\"\"\"\n",
        "\n",
        "with conn.cursor() as cursor:\n",
        "    cursor.execute(query)\n",
        "    conn.commit()\n",
        "    result = cursor.fetchall()\n",
        "result"
      ],
      "metadata": {
        "colab": {
          "base_uri": "https://localhost:8080/"
        },
        "id": "dLi67CQXF2Bp",
        "outputId": "1be15c40-4144-4856-d5ee-b8e771dea6d5"
      },
      "execution_count": null,
      "outputs": [
        {
          "output_type": "execute_result",
          "data": {
            "text/plain": [
              "[('Expedited', 88615)]"
            ]
          },
          "metadata": {},
          "execution_count": 100
        }
      ]
    },
    {
      "cell_type": "code",
      "source": [
        "query = \"\"\"\n",
        "-- 6. Qual é o produto com o preço mais alto?\n",
        "CREATE VIEW view_item6 AS\n",
        "SELECT produto, CAST(REPLACE(preco, '$', '')::numeric AS DECIMAL) AS preco\n",
        "FROM produtos\n",
        "ORDER BY preco DESC\n",
        "LIMIT 1;\n",
        "\n",
        "-- Select da view_item6\n",
        "SELECT * FROM view_item6;\n",
        "\"\"\"\n",
        "\n",
        "with conn.cursor() as cursor:\n",
        "    cursor.execute(query)\n",
        "    conn.commit()\n",
        "    result = cursor.fetchall()\n",
        "result"
      ],
      "metadata": {
        "colab": {
          "base_uri": "https://localhost:8080/"
        },
        "id": "2l4iAA42GGEK",
        "outputId": "c0f8ae1d-3c64-4a84-d57f-7b12c7adce78"
      },
      "execution_count": null,
      "outputs": [
        {
          "output_type": "execute_result",
          "data": {
            "text/plain": [
              "[('LEGO Ideas Home Alone McCallisters’ House 21330', Decimal('449.00'))]"
            ]
          },
          "metadata": {},
          "execution_count": 109
        }
      ]
    },
    {
      "cell_type": "code",
      "source": [
        "query = \"\"\"\n",
        "-- 7. Qual é o dia da semana com maior volume de vendas?\n",
        "CREATE VIEW view_item7 AS\n",
        "SELECT TO_CHAR(data, 'Day') as dia_semana, SUM(quantidade) as total_quantidade\n",
        "FROM vendas\n",
        "GROUP BY dia_semana\n",
        "ORDER BY total_quantidade DESC\n",
        "LIMIT 1;\n",
        "\n",
        "-- Select da view_item7\n",
        "SELECT * FROM view_item7;\n",
        "\"\"\"\n",
        "\n",
        "with conn.cursor() as cursor:\n",
        "    cursor.execute(query)\n",
        "    conn.commit()\n",
        "    result = cursor.fetchall()\n",
        "result"
      ],
      "metadata": {
        "colab": {
          "base_uri": "https://localhost:8080/"
        },
        "id": "Myf-urAtG52_",
        "outputId": "4c13d9cb-2f96-45ee-e692-57ebf4d7dc43"
      },
      "execution_count": null,
      "outputs": [
        {
          "output_type": "execute_result",
          "data": {
            "text/plain": [
              "[('Sunday   ', 58937)]"
            ]
          },
          "metadata": {},
          "execution_count": 113
        }
      ]
    },
    {
      "cell_type": "code",
      "source": [
        "query = \"\"\"\n",
        "-- 8. Quais são os produtos mais frequentemente vendidos juntos (compras frequentes)?\n",
        "CREATE VIEW view_item8 AS\n",
        "SELECT\n",
        "    p1.produto as produto1,\n",
        "    p2.produto as produto2,\n",
        "    COUNT(*) as vezes_comprados_juntos\n",
        "FROM vendas v1\n",
        "JOIN vendas v2 ON v1.order_id = v2.order_id AND v1.codigo_produto < v2.codigo_produto\n",
        "JOIN produtos p1 ON v1.codigo_produto = p1.codigo\n",
        "JOIN produtos p2 ON v2.codigo_produto = p2.codigo\n",
        "GROUP BY produto1, produto2\n",
        "ORDER BY vezes_comprados_juntos DESC\n",
        "LIMIT 5;\n",
        "\n",
        "\n",
        "-- Select da view_item8\n",
        "SELECT * FROM view_item8;\n",
        "\"\"\"\n",
        "\n",
        "with conn.cursor() as cursor:\n",
        "    cursor.execute(query)\n",
        "    conn.commit()\n",
        "    result = cursor.fetchall()\n",
        "result"
      ],
      "metadata": {
        "colab": {
          "base_uri": "https://localhost:8080/"
        },
        "id": "5aCoOpAeHeFb",
        "outputId": "036325f9-8f9a-4b97-f4b9-786b68a0cbdc"
      },
      "execution_count": null,
      "outputs": [
        {
          "output_type": "execute_result",
          "data": {
            "text/plain": [
              "[('YABER WiFi Projector Mini Portable Projector 6000 Lumen 1080P',\n",
              "  'LG 29WL50S - 29 inch UltraWide UHD',\n",
              "  175),\n",
              " ('Google Chromecast 3rd Generation', 'Charmast Mini Power Bank', 130),\n",
              " ('Apple AirPods (3rd Generation)', 'Apple MagSafe Charger', 109),\n",
              " ('HyperX QuadCast S – RGB USB Condenser Microphone for PC',\n",
              "  'Nintendo Switch Console Lite',\n",
              "  107),\n",
              " ('Withings BPM Connect Wireless Blood Pressure Monitor',\n",
              "  'LEGO Ideas 21319 Central Perk Building Kit',\n",
              "  104)]"
            ]
          },
          "metadata": {},
          "execution_count": 126
        }
      ]
    },
    {
      "cell_type": "code",
      "source": [
        "query = \"\"\"\n",
        "-- 9. Qual é o país com o maior número de transações rejeitadas?\n",
        "CREATE VIEW view_item9 AS\n",
        "SELECT pais, COUNT(*) as total_transacoes_rejeitadas\n",
        "FROM vendas\n",
        "WHERE fulfillment = 'No'\n",
        "GROUP BY pais\n",
        "ORDER BY total_transacoes_rejeitadas DESC\n",
        "LIMIT 1;\n",
        "\n",
        "-- Select da view_item9\n",
        "SELECT * FROM view_item9;\n",
        "\"\"\"\n",
        "\n",
        "with conn.cursor() as cursor:\n",
        "    cursor.execute(query)\n",
        "    conn.commit()\n",
        "    result = cursor.fetchall()\n",
        "result\n",
        "\n"
      ],
      "metadata": {
        "colab": {
          "base_uri": "https://localhost:8080/"
        },
        "id": "ENRnwmcBIsRf",
        "outputId": "7293ddc0-9c2a-4eaf-df21-8ade3ec4b5c9"
      },
      "execution_count": null,
      "outputs": [
        {
          "output_type": "execute_result",
          "data": {
            "text/plain": [
              "[('BR', 686)]"
            ]
          },
          "metadata": {},
          "execution_count": 135
        }
      ]
    },
    {
      "cell_type": "code",
      "source": [
        "query = \"\"\"\n",
        "-- 10. Qual é o total de vendas por ano?\n",
        "CREATE VIEW view_item10 AS\n",
        "SELECT EXTRACT(YEAR FROM data) as ano, SUM(quantidade) as total_vendas\n",
        "FROM vendas\n",
        "GROUP BY ano;\n",
        "\n",
        "-- Select da view_item10\n",
        "SELECT * FROM view_item10;\n",
        "\"\"\"\n",
        "\n",
        "with conn.cursor() as cursor:\n",
        "    cursor.execute(query)\n",
        "    conn.commit()\n",
        "    result = cursor.fetchall()\n",
        "result\n",
        "\n"
      ],
      "metadata": {
        "colab": {
          "base_uri": "https://localhost:8080/"
        },
        "id": "LnBSWgJzJZvS",
        "outputId": "1a64dfb6-33cb-4932-883a-6f2426cc6e77"
      },
      "execution_count": null,
      "outputs": [
        {
          "output_type": "execute_result",
          "data": {
            "text/plain": [
              "[(Decimal('2022'), 386868)]"
            ]
          },
          "metadata": {},
          "execution_count": 136
        }
      ]
    },
    {
      "cell_type": "code",
      "source": [
        "query = \"\"\"\n",
        "-- 11. Qual é o estilo de produto mais rentável em termos de faturamento?\n",
        "CREATE VIEW view_item11 AS\n",
        "SELECT style, SUM(quantidade * CAST(preco AS DECIMAL)) as faturamento_total\n",
        "FROM vendas\n",
        "JOIN produtos ON vendas.codigo_produto = produtos.codigo\n",
        "GROUP BY style\n",
        "ORDER BY faturamento_total DESC\n",
        "LIMIT 1;\n",
        "\n",
        "-- Select da view_item11\n",
        "SELECT * FROM view_item11;\n",
        "\"\"\"\n",
        "\n",
        "with conn.cursor() as cursor:\n",
        "    cursor.execute(query)\n",
        "    conn.commit()\n",
        "    result = cursor.fetchall()\n",
        "result\n"
      ],
      "metadata": {
        "colab": {
          "base_uri": "https://localhost:8080/"
        },
        "id": "ZfANXgj4KP5c",
        "outputId": "37bdf4a0-f253-4039-88f4-2bda1e814bfb"
      },
      "execution_count": null,
      "outputs": [
        {
          "output_type": "execute_result",
          "data": {
            "text/plain": [
              "[('JNE3797', Decimal('2081386.38'))]"
            ]
          },
          "metadata": {},
          "execution_count": 154
        }
      ]
    },
    {
      "cell_type": "code",
      "source": [
        "query = \"\"\"\n",
        "-- 12. Qual é o produto com a maior média de vendas diárias?\n",
        "CREATE VIEW view_item12 AS\n",
        "SELECT produto, AVG(quantidade) as media_vendas_diarias\n",
        "FROM vendas\n",
        "JOIN produtos ON vendas.codigo_produto = produtos.codigo\n",
        "GROUP BY produto\n",
        "ORDER BY media_vendas_diarias DESC\n",
        "LIMIT 1;\n",
        "\n",
        "-- Select da view_item12\n",
        "SELECT * FROM view_item12;\n",
        "\"\"\"\n",
        "\n",
        "with conn.cursor() as cursor:\n",
        "    cursor.execute(query)\n",
        "    conn.commit()\n",
        "    result = cursor.fetchall()\n",
        "result\n"
      ],
      "metadata": {
        "colab": {
          "base_uri": "https://localhost:8080/"
        },
        "id": "15NF6CFkKYBR",
        "outputId": "beca157f-0f43-4af6-fb4e-c024456b94ac"
      },
      "execution_count": null,
      "outputs": [
        {
          "output_type": "execute_result",
          "data": {
            "text/plain": [
              "[('Apple Lightning Cable', Decimal('3.0360687484870491'))]"
            ]
          },
          "metadata": {},
          "execution_count": 155
        }
      ]
    },
    {
      "cell_type": "code",
      "source": [
        "query = \"\"\"\n",
        "-- 13. Qual é o ticket médio de todas as vendas?\n",
        "CREATE VIEW view_item13 AS\n",
        "SELECT AVG(v.quantidade * CAST(REPLACE(p.preco, '$', '')::numeric AS DECIMAL)) AS ticket_medio\n",
        "FROM vendas v\n",
        "JOIN produtos p ON v.codigo_produto = p.codigo;\n",
        "\n",
        "SELECT * FROM view_item13;\n",
        "\"\"\"\n",
        "\n",
        "with conn.cursor() as cursor:\n",
        "    cursor.execute(query)\n",
        "    conn.commit()\n",
        "    result = cursor.fetchall()\n",
        "result\n"
      ],
      "metadata": {
        "colab": {
          "base_uri": "https://localhost:8080/"
        },
        "id": "yT_uABvIKwpD",
        "outputId": "927e1efa-1532-4b0d-ff12-c3a19c83ece5"
      },
      "execution_count": null,
      "outputs": [
        {
          "output_type": "execute_result",
          "data": {
            "text/plain": [
              "[(Decimal('493.4882952510176391'),)]"
            ]
          },
          "metadata": {},
          "execution_count": 162
        }
      ]
    },
    {
      "cell_type": "code",
      "source": [
        "query = \"\"\"\n",
        "-- 14. Qual país tem o maior número de transações?\n",
        "CREATE VIEW view_item14 AS\n",
        "SELECT pais, COUNT(*) as total_transacoes\n",
        "FROM vendas\n",
        "GROUP BY pais\n",
        "ORDER BY total_transacoes DESC\n",
        "LIMIT 1;\n",
        "\n",
        "-- Select da view_item14\n",
        "SELECT * FROM view_item14;\n",
        "\"\"\"\n",
        "\n",
        "with conn.cursor() as cursor:\n",
        "    cursor.execute(query)\n",
        "    conn.commit()\n",
        "    result = cursor.fetchall()\n",
        "result\n"
      ],
      "metadata": {
        "colab": {
          "base_uri": "https://localhost:8080/"
        },
        "id": "-fWJgHmmLi6f",
        "outputId": "00b5e177-be1d-49fa-c019-416465a766dd"
      },
      "execution_count": null,
      "outputs": [
        {
          "output_type": "execute_result",
          "data": {
            "text/plain": [
              "[('BR', 14384)]"
            ]
          },
          "metadata": {},
          "execution_count": 163
        }
      ]
    },
    {
      "cell_type": "code",
      "source": [
        "query = \"\"\"\n",
        "-- 15. Qual é a média de produtos vendidos por transação em cada país?\n",
        "CREATE VIEW view_item15 AS\n",
        "SELECT pais, AVG(quantidade) AS media_produtos_por_transacao\n",
        "FROM vendas\n",
        "GROUP BY pais;\n",
        "\n",
        "-- Select da view_item15\n",
        "SELECT * FROM view_item15;\n",
        "\"\"\"\n",
        "\n",
        "with conn.cursor() as cursor:\n",
        "    cursor.execute(query)\n",
        "    conn.commit()\n",
        "    result = cursor.fetchall()\n",
        "result\n"
      ],
      "metadata": {
        "colab": {
          "base_uri": "https://localhost:8080/"
        },
        "id": "AwK6ItmaLuk4",
        "outputId": "c009dc6c-b110-444e-ddc6-978e68356afc"
      },
      "execution_count": null,
      "outputs": [
        {
          "output_type": "execute_result",
          "data": {
            "text/plain": [
              "[('BR', Decimal('2.9958286985539488')),\n",
              " ('AU', Decimal('3.0036998254799302')),\n",
              " ('DK', Decimal('3.0013263525305410')),\n",
              " ('UK', Decimal('3.0070515953361726')),\n",
              " ('GE', Decimal('2.9851975981008239')),\n",
              " ('PT', Decimal('2.9997207288975773')),\n",
              " ('US', Decimal('2.9969288755496615')),\n",
              " ('FR', Decimal('2.9973472949389180')),\n",
              " ('JP', Decimal('3.0089379233293764'))]"
            ]
          },
          "metadata": {},
          "execution_count": 166
        }
      ]
    },
    {
      "cell_type": "code",
      "source": [
        "query = \"\"\"\n",
        "drop view if exists view_item13\n",
        "\"\"\"\n",
        "\n",
        "with conn.cursor() as cursor:\n",
        "    cursor.execute(query)\n",
        "    conn.commit()"
      ],
      "metadata": {
        "id": "Mnw4wvPZFrjm"
      },
      "execution_count": null,
      "outputs": []
    },
    {
      "cell_type": "code",
      "source": [
        "import pandas as pd\n",
        "import matplotlib.pyplot as plt\n",
        "from itertools import combinations\n",
        "from collections import Counter\n",
        "\n",
        "# Carregar os dados dos arquivos CSV\n",
        "produtos = pd.read_csv('/content/drive/MyDrive/teste/produtos.csv')\n",
        "vendas = pd.read_csv('/content/drive/MyDrive/teste/vendas.csv')\n",
        "\n",
        "# Combinar os DataFrames usando a chave 'Codigo'\n",
        "df = pd.merge(vendas, produtos, left_on='Codigo', right_on='Codigo')\n",
        "\n",
        "# 1) Produto mais vendido em termos de quantidade:\n",
        "mais_vendido = df.groupby('Produto').sum().sort_values(by='Qty', ascending=False).head(1)\n",
        "\n",
        "# 2) Total de vendas por país:\n",
        "total_vendas_por_pais = df.groupby('ship-country')['Qty'].sum().reset_index()\n",
        "\n",
        "# 3) Faturamento total por produto:\n",
        "df['Faturamento Total'] = df['Qty'] * df['Preco'].str.replace('[\\$,]', '', regex=True).astype(float)\n",
        "faturamento_por_produto = df.groupby('Produto')['Faturamento Total'].sum().reset_index()\n",
        "\n",
        "# 4) Estilo de produto mais popular em março de 2022:\n",
        "estilo_mais_popular = df[df['Date'].str.startswith('2022-03')].groupby('Style')['Qty'].sum().reset_index().sort_values(by='Qty', ascending=False).head(1)\n",
        "\n",
        "# 5) Nível de envio mais comum:\n",
        "nivel_envio_mais_comum = df['ship-service-level'].value_counts().idxmax()\n",
        "\n",
        "# 6) Produto com o preço mais alto:\n",
        "produto_mais_caro = df.sort_values(by='Preco', ascending=False).head(1)[['Produto', 'Preco']]\n",
        "\n",
        "# 7) Dia da semana com maior volume de vendas:\n",
        "df['Date'] = pd.to_datetime(df['Date'])\n",
        "df['Dia da Semana'] = df['Date'].dt.day_name()\n",
        "dia_semana_mais_vendido = df.groupby('Dia da Semana')['Qty'].sum().idxmax()\n",
        "\n",
        "# 8) Produtos mais frequentemente vendidos juntos:\n",
        "counter = Counter()\n",
        "for _, group in df.groupby('Order ID'):\n",
        "    products = group['Produto']\n",
        "    counter.update(combinations(products, 2))\n",
        "\n",
        "produtos_mais_frequentes = counter.most_common(5)\n",
        "\n",
        "# 9) País com o maior número de transações rejeitadas:\n",
        "if 'REJECTED' in df['Fulfillment'].unique():\n",
        "    pais_mais_rejeicoes = df[df['Fulfillment'] == 'REJECTED']['ship-country'].value_counts().idxmax()\n",
        "else:\n",
        "    pais_mais_rejeicoes = \"Nenhum país tem transações rejeitadas\"\n",
        "\n",
        "# 10) Total de vendas por ano:\n",
        "df['Ano'] = df['Date'].dt.year\n",
        "total_vendas_por_ano = df.groupby('Ano')['Qty'].sum().reset_index()\n",
        "\n",
        "# 11) Estilo de produto mais rentável em termos de faturamento:\n",
        "estilo_mais_rentavel = df.groupby('Style')['Faturamento Total'].sum().idxmax()\n",
        "\n",
        "# 12) Produto com a maior média de vendas diárias:\n",
        "media_vendas_diarias = df.groupby('Produto')['Qty'].mean().idxmax()\n",
        "\n",
        "# 13) Ticket médio de todas as vendas:\n",
        "ticket_medio = df['Faturamento Total'].sum() / df['Qty'].sum()\n",
        "\n",
        "# 14) País com o maior número de transações:\n",
        "pais_maior_numero_transacoes = df['ship-country'].value_counts().idxmax()\n",
        "\n",
        "# 15) Média de produtos vendidos por transação em cada país:\n",
        "media_produtos_por_transacao = df.groupby('ship-country')['Qty'].mean().reset_index()\n",
        "media_produtos_por_transacao = media_produtos_por_transacao.rename(columns={'Qty': 'Media de Produtos por Transacao'})\n",
        "\n",
        "# Exibindo as respostas\n",
        "print(\"1) Produto mais vendido em termos de quantidade:\\n\", mais_vendido)\n",
        "print(\"\\n2) Total de vendas por país:\\n\", total_vendas_por_pais)\n",
        "print(\"\\n3) Faturamento total por produto:\\n\", faturamento_por_produto)\n",
        "print(\"\\n4) Estilo de produto mais popular em março de 2022:\\n\", estilo_mais_popular)\n",
        "print(\"\\n5) Nível de envio mais comum:\\n\", nivel_envio_mais_comum)\n",
        "print(\"\\n6) Produto com o preço mais alto:\\n\", produto_mais_caro)\n",
        "print(\"\\n7) Dia da semana com maior volume de vendas:\\n\", dia_semana_mais_vendido)\n",
        "print(\"\\n8) Produtos mais frequentemente vendidos juntos:\\n\", produtos_mais_frequentes)\n",
        "print(\"\\n9) País com o maior número de transações rejeitadas:\\n\", pais_mais_rejeicoes)\n",
        "print(\"\\n10) Total de vendas por ano:\\n\", total_vendas_por_ano)\n",
        "print(\"\\n11) Estilo de produto mais rentável em termos de faturamento:\\n\", estilo_mais_rentavel)\n",
        "print(\"\\n12) Produto com a maior média de vendas diárias:\\n\", media_vendas_diarias)\n",
        "print(\"\\n13) Ticket médio de todas as vendas:\\n\", ticket_medio)\n",
        "print(\"\\n14) País com o maior número de transações:\\n\", pais_maior_numero_transacoes)\n",
        "print(\"\\n15) Média de produtos vendidos por transação em cada país:\\n\", media_produtos_por_transacao)\n",
        "\n",
        "# Visualização de dados\n",
        "# Gráfico: Total de vendas por país\n",
        "plt.figure(figsize=(10, 6))\n",
        "plt.bar(total_vendas_por_pais['ship-country'], total_vendas_por_pais['Qty'])\n",
        "plt.xlabel('País')\n",
        "plt.ylabel('Total de Vendas')\n",
        "plt.title('Total de Vendas por País')\n",
        "plt.xticks(rotation=45)  # Rotacionar os rótulos do eixo x para melhor legibilidade\n",
        "plt.tight_layout()  # Ajustar layout para evitar cortar as legendas\n",
        "plt.show()\n"
      ],
      "metadata": {
        "colab": {
          "base_uri": "https://localhost:8080/",
          "height": 1000
        },
        "id": "lfc2NGejOuFr",
        "outputId": "c617567f-1d0e-45b2-fbdc-c57e8f894899"
      },
      "execution_count": null,
      "outputs": [
        {
          "output_type": "stream",
          "name": "stderr",
          "text": [
            "<ipython-input-189-ae169cfc4239>:14: FutureWarning: The default value of numeric_only in DataFrameGroupBy.sum is deprecated. In a future version, numeric_only will default to False. Either specify numeric_only or select only columns which should be valid for the function.\n",
            "  mais_vendido = df.groupby('Produto').sum().sort_values(by='Qty', ascending=False).head(1)\n"
          ]
        },
        {
          "output_type": "stream",
          "name": "stdout",
          "text": [
            "1) Produto mais vendido em termos de quantidade:\n",
            "                                                      Qty\n",
            "Produto                                                 \n",
            "Logitech MK270R Wireless Keyboard and Mouse Combo  15264\n",
            "\n",
            "2) Total de vendas por país:\n",
            "   ship-country    Qty\n",
            "0           AU  43028\n",
            "1           BR  43092\n",
            "2           DK  42994\n",
            "3           FR  42937\n",
            "4           GE  42754\n",
            "5           JP  43091\n",
            "6           PT  42965\n",
            "7           UK  43070\n",
            "8           US  42937\n",
            "\n",
            "3) Faturamento total por produto:\n",
            "                                               Produto  Faturamento Total\n",
            "0                Taco Cat Goat Cheese Pizza Card Game          228552.53\n",
            "1                      Apple AirPods (3rd Generation)         3148250.00\n",
            "2                                   Apple AirPods Pro         3822330.00\n",
            "3                               Apple Lightning Cable          275798.58\n",
            "4     Apple Lightning to 3.5mm Headphone Jack Adapter          174286.00\n",
            "5                               Apple MagSafe Charger          709764.00\n",
            "6                            Charmast Mini Power Bank          525249.74\n",
            "7   Digital Blood Pressure Monitor with Large Colo...          623226.15\n",
            "8   Fingertip Pulse Oximeter, Blood Oxygen Saturation          274347.24\n",
            "9                    Google Chromecast 3rd Generation          676665.00\n",
            "10  HEYMIX Powerboard, Power Strip with 8 Outlets,...          644577.20\n",
            "11  HyperX QuadCast S – RGB USB Condenser Micropho...         3220773.00\n",
            "12                            Kindle Paperwhite (8GB)         3600296.00\n",
            "13         LEGO Ideas 21319 Central Perk Building Kit          847941.00\n",
            "14    LEGO Ideas Home Alone McCallisters’ House 21330         5578825.00\n",
            "15                 LG 29WL50S - 29 inch UltraWide UHD         4211505.00\n",
            "16  Logitech MK270R Wireless Keyboard and Mouse Combo          580032.00\n",
            "17                            New Apple AirTag 4 Pack         1837468.00\n",
            "18                       Nintendo Switch Console Lite         5033717.20\n",
            "19    PHILIPS Sonicare 9900 Prestige Power Toothbrush         4983363.00\n",
            "20                        Samsung T37F Monitor UHD 37         3258203.00\n",
            "21                          SanDisk Extreme microSDXC          390411.00\n",
            "22                 Seagate 2TB Expansion Portable HDD          981575.00\n",
            "23  Sony WH1000XM4 Noise Canceling Wireless Headph...         5841990.00\n",
            "24        TP-Link Tapo Pan/Tilt Smart Security Camera         1007610.24\n",
            "25       TicWatch Pro 3 Ultra GPS Smartwatch Qualcomm         4938822.00\n",
            "26                         Webcam HD 1080p Web Camera          725995.00\n",
            "27  Withings BPM Connect Wireless Blood Pressure M...         2205996.00\n",
            "28  YABER WiFi Projector Mini Portable Projector 6...         3300084.00\n",
            "\n",
            "4) Estilo de produto mais popular em março de 2022:\n",
            " Empty DataFrame\n",
            "Columns: [Style, Qty]\n",
            "Index: []\n",
            "\n",
            "5) Nível de envio mais comum:\n",
            " Expedited\n",
            "\n",
            "6) Produto com o preço mais alto:\n",
            "                                   Produto   Preco\n",
            "84109  Seagate 2TB Expansion Portable HDD  $79.00\n",
            "\n",
            "7) Dia da semana com maior volume de vendas:\n",
            " Sunday\n",
            "\n",
            "8) Produtos mais frequentemente vendidos juntos:\n",
            " [(('YABER WiFi Projector Mini Portable Projector 6000 Lumen 1080P', 'LG 29WL50S - 29 inch UltraWide UHD'), 175), (('Google Chromecast 3rd Generation', 'Charmast Mini Power Bank'), 130), (('Apple AirPods (3rd Generation)', 'Apple MagSafe Charger'), 109), (('Nintendo Switch Console Lite', 'HyperX QuadCast S – RGB USB Condenser Microphone for PC'), 107), (('LEGO Ideas 21319 Central Perk Building Kit', 'Withings BPM Connect Wireless Blood Pressure Monitor'), 104)]\n",
            "\n",
            "9) País com o maior número de transações rejeitadas:\n",
            " Nenhum país tem transações rejeitadas\n",
            "\n",
            "10) Total de vendas por ano:\n",
            "     Ano     Qty\n",
            "0  2022  386868\n",
            "\n",
            "11) Estilo de produto mais rentável em termos de faturamento:\n",
            " JNE3797\n",
            "\n",
            "12) Produto com a maior média de vendas diárias:\n",
            " Apple Lightning Cable\n",
            "\n",
            "13) Ticket médio de todas as vendas:\n",
            " 164.52033479119493\n",
            "\n",
            "14) País com o maior número de transações:\n",
            " BR\n",
            "\n",
            "15) Média de produtos vendidos por transação em cada país:\n",
            "   ship-country  Media de Produtos por Transacao\n",
            "0           AU                         3.003700\n",
            "1           BR                         2.995829\n",
            "2           DK                         3.001326\n",
            "3           FR                         2.997347\n",
            "4           GE                         2.985198\n",
            "5           JP                         3.008938\n",
            "6           PT                         2.999721\n",
            "7           UK                         3.007052\n",
            "8           US                         2.996929\n"
          ]
        },
        {
          "output_type": "display_data",
          "data": {
            "text/plain": [
              "<Figure size 1000x600 with 1 Axes>"
            ],
            "image/png": "[encoded data removed]"
          },
          "metadata": {}
        }
      ]
    }
  ]
}